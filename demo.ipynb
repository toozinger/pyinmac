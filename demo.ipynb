{
 "cells": [
  {
   "cell_type": "markdown",
   "metadata": {},
   "source": [
    "<h1><center>pyinmac demo</center></h1>"
   ]
  },
  {
   "cell_type": "code",
   "execution_count": null,
   "metadata": {},
   "outputs": [],
   "source": [
    "from pyinmac import connect_inmac_db, check_machine_table, get_time, add_data, get_data"
   ]
  },
  {
   "cell_type": "code",
   "execution_count": null,
   "metadata": {},
   "outputs": [],
   "source": [
    "# Open DB connection\n",
    "db = connect_inmac_db('OT2', 'test_user', 't35tP455', db_name='test_db')"
   ]
  },
  {
   "cell_type": "code",
   "execution_count": null,
   "metadata": {},
   "outputs": [],
   "source": [
    "# Verify machine table exists; creates new machine table if it does not exist\n",
    "check_machine_table(db, 'new_machine')"
   ]
  },
  {
   "cell_type": "code",
   "execution_count": null,
   "metadata": {},
   "outputs": [],
   "source": [
    "# Add a new data value for new_machine; columns are Time, Value, Metric\n",
    "add_data(db, 'new_machine', get_time(), 1.1, 'x')\n",
    "t0 = get_time()  # mark time\n",
    "add_data(db, 'new_machine', get_time(), 1.2, 'x')\n",
    "add_data(db, 'new_machine', get_time(), 1.3, 'x')"
   ]
  },
  {
   "cell_type": "code",
   "execution_count": null,
   "metadata": {},
   "outputs": [],
   "source": [
    "# Get all time, x values\n",
    "t, x = get_data(db, 'new_machine', 'x')\n",
    "print(t,x)"
   ]
  },
  {
   "cell_type": "code",
   "execution_count": null,
   "metadata": {},
   "outputs": [],
   "source": [
    "# Get all time, x values pushed to the DB after t0\n",
    "t, x = get_data(db, 'new_machine', 'x', where='Time > \"{0}\"'.format(t0))\n",
    "print(t,x)      "
   ]
  }
 ],
 "metadata": {
  "kernelspec": {
   "display_name": "Python 3",
   "language": "python",
   "name": "python3"
  },
  "language_info": {
   "codemirror_mode": {
    "name": "ipython",
    "version": 3
   },
   "file_extension": ".py",
   "mimetype": "text/x-python",
   "name": "python",
   "nbconvert_exporter": "python",
   "pygments_lexer": "ipython3",
   "version": "3.8.11"
  }
 },
 "nbformat": 4,
 "nbformat_minor": 4
}
