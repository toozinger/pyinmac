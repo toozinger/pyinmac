{
 "cells": [
  {
   "cell_type": "markdown",
   "metadata": {},
   "source": [
    "<h1><center>pyinmac demo</center></h1>"
   ]
  },
  {
   "cell_type": "markdown",
   "metadata": {},
   "source": [
    "    # Python code that runs on server to get /var usage and push to DB\n",
    "    import sys\n",
    "    from pyinmac import connect_inmac_db, get_time, add_data\n",
    "\n",
    "    n = len(sys.argv)\n",
    "    if n != 3:\n",
    "        sys.stderr.write('Usage: {0} used avail\\n'.format(sys.argv[0]))\n",
    "        sys.exit(1)\n",
    "    used = float(sys.argv[1])\n",
    "    avail = float(sys.argv[2])\n",
    "\n",
    "    db = connect_inmac_db('private', 'cron', 'xxxxxxxx')   # password xxxxxxxx\n",
    "    add_data(db, 'private_server', get_time(), used/avail, '/var usage')\n"
   ]
  },
  {
   "cell_type": "code",
   "execution_count": null,
   "metadata": {},
   "outputs": [],
   "source": [
    "# Import modules\n",
    "from datetime import datetime\n",
    "from pyinmac import connect_inmac_db, get_data"
   ]
  },
  {
   "cell_type": "code",
   "execution_count": null,
   "metadata": {},
   "outputs": [],
   "source": [
    "# Use pyinmac functions to connect to DB and get ALL data for the specified metric\n",
    "db = connect_inmac_db('private', 'demo', 'F*8o83d^3rF6Zw&')\n",
    "t, u = get_data(db, 'private_server', '/var usage')"
   ]
  },
  {
   "cell_type": "code",
   "execution_count": null,
   "metadata": {},
   "outputs": [],
   "source": [
    "# Look at data\n",
    "t"
   ]
  },
  {
   "cell_type": "code",
   "execution_count": null,
   "metadata": {},
   "outputs": [],
   "source": [
    "# Convert string data to float\n",
    "y = [float(s) for s in u]"
   ]
  },
  {
   "cell_type": "code",
   "execution_count": null,
   "metadata": {},
   "outputs": [],
   "source": [
    "# Import plotting module\n",
    "%matplotlib notebook\n",
    "import matplotlib.pyplot as plt"
   ]
  },
  {
   "cell_type": "code",
   "execution_count": null,
   "metadata": {},
   "outputs": [],
   "source": [
    "# Create and display plot\n",
    "fig, ax = plt.subplots()\n",
    "ax.plot(t, y, linestyle='-', color='blue',  label='/var')\n",
    "ax.set_xlabel('Time')\n",
    "ax.set_ylabel('Disk usage')\n",
    "ax.legend()"
   ]
  },
  {
   "cell_type": "code",
   "execution_count": null,
   "metadata": {},
   "outputs": [],
   "source": [
    "# Create a datetime object \n",
    "t0 = datetime(2021, 4, 13, 0, 0, 0)"
   ]
  },
  {
   "cell_type": "code",
   "execution_count": null,
   "metadata": {},
   "outputs": [],
   "source": [
    "# Get only the data for the specified metric with time after t0\n",
    "t, u = get_data(db, 'private_server', '/var usage', where='Time > \"{0}\"'.format(t0))"
   ]
  },
  {
   "cell_type": "markdown",
   "metadata": {},
   "source": [
    "     # Python code that runs on server to get cpu usage and push to DB\n",
    "    from psutil import cpu_percent\n",
    "    from pyinmac import connect_inmac_db, get_time, add_data\n",
    "\n",
    "    db = connect_inmac_db('private', 'cron', 'xxxxxxxx')  # password xxxxxxxx\n",
    "    pct = cpu_percent(interval=1)\n",
    "    add_data(db, 'private_server', get_time(), pct, 'cpu usage')\n"
   ]
  },
  {
   "cell_type": "code",
   "execution_count": null,
   "metadata": {},
   "outputs": [],
   "source": [
    "# Get another metric with time after t0\n",
    "t, c = get_data(db, 'private_server', 'cpu usage', where='Time > \"{0}\"'.format(t0))"
   ]
  },
  {
   "cell_type": "code",
   "execution_count": null,
   "metadata": {},
   "outputs": [],
   "source": [
    "# Convert string data to float\n",
    "y = [float(s) for s in c]"
   ]
  },
  {
   "cell_type": "code",
   "execution_count": null,
   "metadata": {},
   "outputs": [],
   "source": [
    "# Create and display plot\n",
    "fig, ax = plt.subplots()\n",
    "ax.plot(t, y, linestyle='-', color='green',  label='cpu')\n",
    "ax.set_xlabel('Time')\n",
    "ax.set_ylabel('CPU')\n",
    "ax.legend()"
   ]
  },
  {
   "cell_type": "code",
   "execution_count": null,
   "metadata": {},
   "outputs": [],
   "source": []
  }
 ],
 "metadata": {
  "kernelspec": {
   "display_name": "Python 3",
   "language": "python",
   "name": "python3"
  },
  "language_info": {
   "codemirror_mode": {
    "name": "ipython",
    "version": 3
   },
   "file_extension": ".py",
   "mimetype": "text/x-python",
   "name": "python",
   "nbconvert_exporter": "python",
   "pygments_lexer": "ipython3",
   "version": "3.8.5"
  }
 },
 "nbformat": 4,
 "nbformat_minor": 4
}
